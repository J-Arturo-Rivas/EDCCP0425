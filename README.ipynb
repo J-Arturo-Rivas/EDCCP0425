{
  "nbformat": 4,
  "nbformat_minor": 0,
  "metadata": {
    "colab": {
      "provenance": [],
      "authorship_tag": "ABX9TyNWyDNcGYsEnc/1zaz345MZ"
    },
    "kernelspec": {
      "name": "python3",
      "display_name": "Python 3"
    },
    "language_info": {
      "name": "python"
    }
  },
  "cells": [
    {
      "cell_type": "markdown",
      "source": [
        "# EDCCP0425\n",
        "ESCUELA DE CODIGO PILARES COOPEREMOS PUEBLO ABRIL 2025\n",
        "Sesion 5-mayo-2020  https://meet.google.com/syn-ezhq-heu\n",
        "\"Lenguajes de Programacion\"\n",
        "  -Compilador\n",
        "  -Interprete\n",
        "  -Que es un programa\n",
        "  -Para que funcionan los pseudocodigos\n",
        "  -Una variable en programacion\n",
        "  -Una funcion\n"
      ],
      "metadata": {
        "id": "O2TEAQlBMRiC"
      }
    }
  ]
}
